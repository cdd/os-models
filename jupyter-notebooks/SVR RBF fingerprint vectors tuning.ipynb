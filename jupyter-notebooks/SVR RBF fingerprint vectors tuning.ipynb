{
 "cells": [
  {
   "cell_type": "code",
   "execution_count": 1,
   "metadata": {
    "collapsed": false
   },
   "outputs": [],
   "source": [
    "%matplotlib inline\n",
    "%load_ext autoreload\n",
    "%autoreload 2\n",
    "\n",
    "import seaborn as sns\n",
    "import pandas as pd\n",
    "import matplotlib.pyplot as plt\n",
    "import numpy as np\n",
    "import math\n",
    "from sklearn.metrics import mean_squared_error"
   ]
  },
  {
   "cell_type": "code",
   "execution_count": 2,
   "metadata": {
    "collapsed": false
   },
   "outputs": [
    {
     "data": {
      "text/plain": [
       "(1620, 10)"
      ]
     },
     "execution_count": 2,
     "metadata": {},
     "output_type": "execute_result"
    }
   ],
   "source": [
    "results = pd.read_csv('tune_rbf_svr_fp.csv')\n",
    "results.shape"
   ]
  },
  {
   "cell_type": "code",
   "execution_count": 3,
   "metadata": {
    "collapsed": false
   },
   "outputs": [
    {
     "data": {
      "text/plain": [
       "Index(['name', 'method', 'feature', 'nfolds', 'C', 'gamma', 'rmse', 'f1', 'f2',\n",
       "       'f3'],\n",
       "      dtype='object')"
      ]
     },
     "execution_count": 3,
     "metadata": {},
     "output_type": "execute_result"
    }
   ],
   "source": [
    "results.columns"
   ]
  },
  {
   "cell_type": "code",
   "execution_count": 4,
   "metadata": {
    "collapsed": false
   },
   "outputs": [
    {
     "name": "stdout",
     "output_type": "stream",
     "text": [
      "names ['MalariaNovartis', 'TB_SRI', 'ADMECaco2', 'MouseRatTox', 'TB_MDR', 'LogP', 'Xanthine-Bostaurus', 'Chagas', 'Caco2']\n",
      "features ['cdk_fp', 'rdkit_fp']\n",
      "nFolds [2000, 1500, 1000]\n",
      "C [0.01, 0.10000000000000001, 1.0, 10.0, 100.0, 1000.0]\n",
      "Gamma [0.0001, 0.001, 0.01, 0.10000000000000001, 1.0]\n"
     ]
    }
   ],
   "source": [
    "print(\"names {}\".format(list(results['name'].value_counts().to_dict().keys())))\n",
    "print(\"features {}\".format(list(results['feature'].value_counts().to_dict().keys())))\n",
    "print(\"nFolds {}\".format(list(results['nfolds'].value_counts().to_dict().keys())))\n",
    "print(\"C {}\".format(sorted(list(results['C'].value_counts().to_dict().keys()))))\n",
    "print(\"Gamma {}\".format(sorted(list(results['gamma'].value_counts().to_dict().keys()))))"
   ]
  },
  {
   "cell_type": "code",
   "execution_count": 5,
   "metadata": {
    "collapsed": false
   },
   "outputs": [
    {
     "data": {
      "text/html": [
       "<div>\n",
       "<table border=\"1\" class=\"dataframe\">\n",
       "  <thead>\n",
       "    <tr style=\"text-align: right;\">\n",
       "      <th></th>\n",
       "      <th>name</th>\n",
       "      <th>method</th>\n",
       "      <th>feature</th>\n",
       "      <th>nfolds</th>\n",
       "      <th>C</th>\n",
       "      <th>gamma</th>\n",
       "      <th>rmse</th>\n",
       "      <th>f1</th>\n",
       "      <th>f2</th>\n",
       "      <th>f3</th>\n",
       "    </tr>\n",
       "  </thead>\n",
       "  <tbody>\n",
       "    <tr>\n",
       "      <th>1208</th>\n",
       "      <td>ADMECaco2</td>\n",
       "      <td>SVR_RBF</td>\n",
       "      <td>cdk_fp</td>\n",
       "      <td>1500</td>\n",
       "      <td>100.0</td>\n",
       "      <td>0.0010</td>\n",
       "      <td>0.572875</td>\n",
       "      <td>0.529491</td>\n",
       "      <td>0.604192</td>\n",
       "      <td>0.584942</td>\n",
       "    </tr>\n",
       "    <tr>\n",
       "      <th>1425</th>\n",
       "      <td>Caco2</td>\n",
       "      <td>SVR_RBF</td>\n",
       "      <td>rdkit_fp</td>\n",
       "      <td>1000</td>\n",
       "      <td>1000.0</td>\n",
       "      <td>0.0001</td>\n",
       "      <td>0.597476</td>\n",
       "      <td>0.615129</td>\n",
       "      <td>0.644558</td>\n",
       "      <td>0.532740</td>\n",
       "    </tr>\n",
       "    <tr>\n",
       "      <th>963</th>\n",
       "      <td>Chagas</td>\n",
       "      <td>SVR_RBF</td>\n",
       "      <td>rdkit_fp</td>\n",
       "      <td>1500</td>\n",
       "      <td>100.0</td>\n",
       "      <td>0.0010</td>\n",
       "      <td>0.450124</td>\n",
       "      <td>0.411951</td>\n",
       "      <td>0.429386</td>\n",
       "      <td>0.509036</td>\n",
       "    </tr>\n",
       "    <tr>\n",
       "      <th>789</th>\n",
       "      <td>LogP</td>\n",
       "      <td>SVR_RBF</td>\n",
       "      <td>rdkit_fp</td>\n",
       "      <td>2000</td>\n",
       "      <td>100.0</td>\n",
       "      <td>0.0010</td>\n",
       "      <td>0.646269</td>\n",
       "      <td>0.645282</td>\n",
       "      <td>0.675833</td>\n",
       "      <td>0.617692</td>\n",
       "    </tr>\n",
       "    <tr>\n",
       "      <th>104</th>\n",
       "      <td>MalariaNovartis</td>\n",
       "      <td>SVR_RBF</td>\n",
       "      <td>rdkit_fp</td>\n",
       "      <td>1500</td>\n",
       "      <td>1.0</td>\n",
       "      <td>0.0100</td>\n",
       "      <td>0.532293</td>\n",
       "      <td>0.538388</td>\n",
       "      <td>0.527818</td>\n",
       "      <td>0.530673</td>\n",
       "    </tr>\n",
       "    <tr>\n",
       "      <th>272</th>\n",
       "      <td>MouseRatTox</td>\n",
       "      <td>SVR_RBF</td>\n",
       "      <td>cdk_fp</td>\n",
       "      <td>1000</td>\n",
       "      <td>10.0</td>\n",
       "      <td>0.0100</td>\n",
       "      <td>1.201674</td>\n",
       "      <td>1.115029</td>\n",
       "      <td>1.350355</td>\n",
       "      <td>1.139639</td>\n",
       "    </tr>\n",
       "    <tr>\n",
       "      <th>1531</th>\n",
       "      <td>TB_MDR</td>\n",
       "      <td>SVR_RBF</td>\n",
       "      <td>rdkit_fp</td>\n",
       "      <td>1500</td>\n",
       "      <td>10.0</td>\n",
       "      <td>0.0100</td>\n",
       "      <td>0.565720</td>\n",
       "      <td>0.559256</td>\n",
       "      <td>0.592101</td>\n",
       "      <td>0.545802</td>\n",
       "    </tr>\n",
       "    <tr>\n",
       "      <th>672</th>\n",
       "      <td>TB_SRI</td>\n",
       "      <td>SVR_RBF</td>\n",
       "      <td>cdk_fp</td>\n",
       "      <td>2000</td>\n",
       "      <td>1.0</td>\n",
       "      <td>0.0100</td>\n",
       "      <td>0.635401</td>\n",
       "      <td>0.626748</td>\n",
       "      <td>0.644397</td>\n",
       "      <td>0.635059</td>\n",
       "    </tr>\n",
       "    <tr>\n",
       "      <th>503</th>\n",
       "      <td>Xanthine-Bostaurus</td>\n",
       "      <td>SVR_RBF</td>\n",
       "      <td>rdkit_fp</td>\n",
       "      <td>2000</td>\n",
       "      <td>100.0</td>\n",
       "      <td>0.0010</td>\n",
       "      <td>0.656486</td>\n",
       "      <td>0.670693</td>\n",
       "      <td>0.721763</td>\n",
       "      <td>0.577001</td>\n",
       "    </tr>\n",
       "  </tbody>\n",
       "</table>\n",
       "</div>"
      ],
      "text/plain": [
       "                    name   method   feature  nfolds       C   gamma      rmse  \\\n",
       "1208           ADMECaco2  SVR_RBF    cdk_fp    1500   100.0  0.0010  0.572875   \n",
       "1425               Caco2  SVR_RBF  rdkit_fp    1000  1000.0  0.0001  0.597476   \n",
       "963               Chagas  SVR_RBF  rdkit_fp    1500   100.0  0.0010  0.450124   \n",
       "789                 LogP  SVR_RBF  rdkit_fp    2000   100.0  0.0010  0.646269   \n",
       "104      MalariaNovartis  SVR_RBF  rdkit_fp    1500     1.0  0.0100  0.532293   \n",
       "272          MouseRatTox  SVR_RBF    cdk_fp    1000    10.0  0.0100  1.201674   \n",
       "1531              TB_MDR  SVR_RBF  rdkit_fp    1500    10.0  0.0100  0.565720   \n",
       "672               TB_SRI  SVR_RBF    cdk_fp    2000     1.0  0.0100  0.635401   \n",
       "503   Xanthine-Bostaurus  SVR_RBF  rdkit_fp    2000   100.0  0.0010  0.656486   \n",
       "\n",
       "            f1        f2        f3  \n",
       "1208  0.529491  0.604192  0.584942  \n",
       "1425  0.615129  0.644558  0.532740  \n",
       "963   0.411951  0.429386  0.509036  \n",
       "789   0.645282  0.675833  0.617692  \n",
       "104   0.538388  0.527818  0.530673  \n",
       "272   1.115029  1.350355  1.139639  \n",
       "1531  0.559256  0.592101  0.545802  \n",
       "672   0.626748  0.644397  0.635059  \n",
       "503   0.670693  0.721763  0.577001  "
      ]
     },
     "execution_count": 5,
     "metadata": {},
     "output_type": "execute_result"
    }
   ],
   "source": [
    "min_summary = results.loc[results.groupby(\"name\", as_index=False)[\"rmse\"].idxmin()].sort_values('name')\n",
    "min_summary"
   ]
  },
  {
   "cell_type": "code",
   "execution_count": 55,
   "metadata": {
    "collapsed": false,
    "scrolled": false
   },
   "outputs": [
    {
     "name": "stdout",
     "output_type": "stream",
     "text": [
      "Iterating over:\n",
      "nfolds: [2000, 1500, 1000]\n",
      "C: [0.10000000000000001, 1000.0, 0.01, 100.0, 10.0, 1.0]\n",
      "gamma: [0.10000000000000001, 0.01, 0.001, 0.0001, 1.0]\n",
      "feature: ['cdk_fp', 'rdkit_fp']\n",
      "Best common settings:\n",
      "nfolds -> 2000\n",
      "C -> 10.0\n",
      "gamma -> 0.001\n",
      "feature -> rdkit_fp\n",
      "rmse -> 0.0351027654255593\n"
     ]
    },
    {
     "data": {
      "text/html": [
       "<div>\n",
       "<table border=\"1\" class=\"dataframe\">\n",
       "  <thead>\n",
       "    <tr style=\"text-align: right;\">\n",
       "      <th></th>\n",
       "      <th>name</th>\n",
       "      <th>rmse</th>\n",
       "    </tr>\n",
       "  </thead>\n",
       "  <tbody>\n",
       "    <tr>\n",
       "      <th>1181</th>\n",
       "      <td>ADMECaco2</td>\n",
       "      <td>0.616422</td>\n",
       "    </tr>\n",
       "    <tr>\n",
       "      <th>1370</th>\n",
       "      <td>Caco2</td>\n",
       "      <td>0.635855</td>\n",
       "    </tr>\n",
       "    <tr>\n",
       "      <th>959</th>\n",
       "      <td>Chagas</td>\n",
       "      <td>0.454211</td>\n",
       "    </tr>\n",
       "    <tr>\n",
       "      <th>787</th>\n",
       "      <td>LogP</td>\n",
       "      <td>0.663605</td>\n",
       "    </tr>\n",
       "    <tr>\n",
       "      <th>159</th>\n",
       "      <td>MalariaNovartis</td>\n",
       "      <td>0.552187</td>\n",
       "    </tr>\n",
       "    <tr>\n",
       "      <th>296</th>\n",
       "      <td>MouseRatTox</td>\n",
       "      <td>1.254984</td>\n",
       "    </tr>\n",
       "    <tr>\n",
       "      <th>1579</th>\n",
       "      <td>TB_MDR</td>\n",
       "      <td>0.579276</td>\n",
       "    </tr>\n",
       "    <tr>\n",
       "      <th>706</th>\n",
       "      <td>TB_SRI</td>\n",
       "      <td>0.657176</td>\n",
       "    </tr>\n",
       "    <tr>\n",
       "      <th>473</th>\n",
       "      <td>Xanthine-Bostaurus</td>\n",
       "      <td>0.715711</td>\n",
       "    </tr>\n",
       "  </tbody>\n",
       "</table>\n",
       "</div>"
      ],
      "text/plain": [
       "                    name      rmse\n",
       "1181           ADMECaco2  0.616422\n",
       "1370               Caco2  0.635855\n",
       "959               Chagas  0.454211\n",
       "787                 LogP  0.663605\n",
       "159      MalariaNovartis  0.552187\n",
       "296          MouseRatTox  1.254984\n",
       "1579              TB_MDR  0.579276\n",
       "706               TB_SRI  0.657176\n",
       "473   Xanthine-Bostaurus  0.715711"
      ]
     },
     "execution_count": 55,
     "metadata": {},
     "output_type": "execute_result"
    }
   ],
   "source": [
    "from collections import namedtuple\n",
    "from itertools import product\n",
    "\n",
    "params = ['nfolds', 'C', 'gamma', 'feature']\n",
    "Summary = namedtuple('Summary', params + ['rmse'])\n",
    "param_values = [list(results[p].value_counts().to_dict().keys()) for p in params]\n",
    "print(\"Iterating over:\")\n",
    "for p, values in zip(params, param_values):\n",
    "    print(\"{}: {}\".format(p, values))\n",
    "combinations = product(*param_values)\n",
    "best = None\n",
    "for values in combinations:\n",
    "    query = '&'.join([ \" ({} == {}) \".format(p, \"'{}'\".format(v) if isinstance(v, str) else v) for p, v in zip(params, values)])\n",
    "    test_df = results.query(query)\n",
    "    join_df = min_summary.merge(test_df, how='inner', on='name', suffixes=('_min', '_test'))[['name', 'rmse_min', 'rmse_test']]\n",
    "    rmse = math.sqrt(mean_squared_error(join_df['rmse_min'], join_df['rmse_test']))\n",
    "    if best is None or best.rmse > rmse:\n",
    "        summary = list(values)+[rmse]\n",
    "        best = Summary(*summary)\n",
    "\n",
    "print(\"Best common settings:\")\n",
    "for f, v in best._asdict().items():\n",
    "    print(\"{} -> {}\".format(f, v))\n",
    "    \n",
    "query = '&'.join([ \" ({} == {}) \".format(p, \"'{}'\".format(v) if isinstance(v, str) else v) for p, v in zip(params, best)])\n",
    "best_summary = results.query(query)[['name', 'rmse']].sort_values('name')\n",
    "best_summary"
   ]
  },
  {
   "cell_type": "code",
   "execution_count": 56,
   "metadata": {
    "collapsed": false
   },
   "outputs": [
    {
     "data": {
      "text/html": [
       "<div>\n",
       "<table border=\"1\" class=\"dataframe\">\n",
       "  <thead>\n",
       "    <tr style=\"text-align: right;\">\n",
       "      <th></th>\n",
       "      <th>name</th>\n",
       "      <th>rmse_min</th>\n",
       "      <th>rmse_common</th>\n",
       "      <th>delta</th>\n",
       "    </tr>\n",
       "  </thead>\n",
       "  <tbody>\n",
       "    <tr>\n",
       "      <th>0</th>\n",
       "      <td>ADMECaco2</td>\n",
       "      <td>0.572875</td>\n",
       "      <td>0.616422</td>\n",
       "      <td>0.043548</td>\n",
       "    </tr>\n",
       "    <tr>\n",
       "      <th>1</th>\n",
       "      <td>Caco2</td>\n",
       "      <td>0.597476</td>\n",
       "      <td>0.635855</td>\n",
       "      <td>0.038379</td>\n",
       "    </tr>\n",
       "    <tr>\n",
       "      <th>2</th>\n",
       "      <td>Chagas</td>\n",
       "      <td>0.450124</td>\n",
       "      <td>0.454211</td>\n",
       "      <td>0.004086</td>\n",
       "    </tr>\n",
       "    <tr>\n",
       "      <th>3</th>\n",
       "      <td>LogP</td>\n",
       "      <td>0.646269</td>\n",
       "      <td>0.663605</td>\n",
       "      <td>0.017336</td>\n",
       "    </tr>\n",
       "    <tr>\n",
       "      <th>4</th>\n",
       "      <td>MalariaNovartis</td>\n",
       "      <td>0.532293</td>\n",
       "      <td>0.552187</td>\n",
       "      <td>0.019894</td>\n",
       "    </tr>\n",
       "    <tr>\n",
       "      <th>5</th>\n",
       "      <td>MouseRatTox</td>\n",
       "      <td>1.201674</td>\n",
       "      <td>1.254984</td>\n",
       "      <td>0.053310</td>\n",
       "    </tr>\n",
       "    <tr>\n",
       "      <th>6</th>\n",
       "      <td>TB_MDR</td>\n",
       "      <td>0.565720</td>\n",
       "      <td>0.579276</td>\n",
       "      <td>0.013556</td>\n",
       "    </tr>\n",
       "    <tr>\n",
       "      <th>7</th>\n",
       "      <td>TB_SRI</td>\n",
       "      <td>0.635401</td>\n",
       "      <td>0.657176</td>\n",
       "      <td>0.021775</td>\n",
       "    </tr>\n",
       "    <tr>\n",
       "      <th>8</th>\n",
       "      <td>Xanthine-Bostaurus</td>\n",
       "      <td>0.656486</td>\n",
       "      <td>0.715711</td>\n",
       "      <td>0.059225</td>\n",
       "    </tr>\n",
       "  </tbody>\n",
       "</table>\n",
       "</div>"
      ],
      "text/plain": [
       "                 name  rmse_min  rmse_common     delta\n",
       "0           ADMECaco2  0.572875     0.616422  0.043548\n",
       "1               Caco2  0.597476     0.635855  0.038379\n",
       "2              Chagas  0.450124     0.454211  0.004086\n",
       "3                LogP  0.646269     0.663605  0.017336\n",
       "4     MalariaNovartis  0.532293     0.552187  0.019894\n",
       "5         MouseRatTox  1.201674     1.254984  0.053310\n",
       "6              TB_MDR  0.565720     0.579276  0.013556\n",
       "7              TB_SRI  0.635401     0.657176  0.021775\n",
       "8  Xanthine-Bostaurus  0.656486     0.715711  0.059225"
      ]
     },
     "execution_count": 56,
     "metadata": {},
     "output_type": "execute_result"
    }
   ],
   "source": [
    "summary = min_summary.merge(best_summary, how='inner', on='name', suffixes=('_min', '_common'))[['name', 'rmse_min', 'rmse_common']]\n",
    "summary['delta'] = summary['rmse_common'] - summary['rmse_min']\n",
    "summary.to_csv('tune_rbf_svr_fp_summary.csv')\n",
    "summary"
   ]
  },
  {
   "cell_type": "code",
   "execution_count": 58,
   "metadata": {
    "collapsed": false
   },
   "outputs": [
    {
     "data": {
      "text/plain": [
       "0.0351027654255593"
      ]
     },
     "execution_count": 58,
     "metadata": {},
     "output_type": "execute_result"
    }
   ],
   "source": [
    "math.sqrt(mean_squared_error(summary['rmse_min'], summary['rmse_common']))"
   ]
  },
  {
   "cell_type": "code",
   "execution_count": 25,
   "metadata": {
    "collapsed": false
   },
   "outputs": [],
   "source": [
    "min_summary['method'] = 'SVR_RBF'\n",
    "rf_results['method'] = 'RF'\n",
    "summary_cat = min_summary[['name', 'rmse', 'method']].append(rf_results)"
   ]
  },
  {
   "cell_type": "code",
   "execution_count": 26,
   "metadata": {
    "collapsed": false
   },
   "outputs": [
    {
     "data": {
      "text/plain": [
       "<matplotlib.axes._subplots.AxesSubplot at 0x7fdc911d7400>"
      ]
     },
     "execution_count": 26,
     "metadata": {},
     "output_type": "execute_result"
    },
    {
     "data": {
      "image/png": "[encoded data removed]",
      "text/plain": [
       "<matplotlib.figure.Figure at 0x7fdc91280eb8>"
      ]
     },
     "metadata": {},
     "output_type": "display_data"
    }
   ],
   "source": [
    "fig, axes = plt.subplots(nrows=1, ncols=1, figsize=(10, 8))\n",
    "sns.pointplot(x='method', y='rmse', hue='name', data=summary_cat, ax=axes)"
   ]
  }
 ],
 "metadata": {
  "kernelspec": {
   "display_name": "Python 3",
   "language": "python",
   "name": "python3"
  },
  "language_info": {
   "codemirror_mode": {
    "name": "ipython",
    "version": 3
   },
   "file_extension": ".py",
   "mimetype": "text/x-python",
   "name": "python",
   "nbconvert_exporter": "python",
   "pygments_lexer": "ipython3",
   "version": "3.6.0"
  }
 },
 "nbformat": 4,
 "nbformat_minor": 2
}
