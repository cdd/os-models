{
 "cells": [
  {
   "cell_type": "code",
   "execution_count": 1,
   "metadata": {},
   "outputs": [],
   "source": [
    "%matplotlib inline\n",
    "%load_ext autoreload\n",
    "%autoreload 2\n",
    "\n",
    "import seaborn as sns\n",
    "import pandas as pd\n",
    "import matplotlib.pyplot as plt\n",
    "import numpy as n\n",
    "\n",
    "import sys\n",
    "import re\n",
    "\n",
    "sys.path.insert(0, '../python')\n",
    "from tuning_results import TuningResults"
   ]
  },
  {
   "cell_type": "code",
   "execution_count": 2,
   "metadata": {},
   "outputs": [],
   "source": [
    "def rename_columns(df):\n",
    "    def rename_col(n):\n",
    "        new_n = re.sub(r\" \\[.*\\]$\", \"\", n)\n",
    "        return new_n\n",
    "    \n",
    "    columns_map = {n:rename_col(n) for n in df.columns}\n",
    "    df = df.rename(columns=columns_map)\n",
    "    return  df\n",
    "\n",
    "files = ['tune_smile_linear_svm_ml_classification.csv',\n",
    "  'tune_smile_poly_svm_ml_classification.csv',\n",
    "   'tune_smile_rbf_svm_ml_classification.csv',\n",
    "   'tune_weka_rf_ml_classification.csv']\n",
    "dfs = [pd.read_csv(f) for f in files]\n",
    "dfs = [rename_columns(df) for df in dfs]\n"
   ]
  },
  {
   "cell_type": "code",
   "execution_count": 3,
   "metadata": {},
   "outputs": [
    {
     "name": "stdout",
     "output_type": "stream",
     "text": [
      "SMILE_LINEAR_SVM\n",
      "C 0.0001, 0.001, 0.01, 0.1, 1.0, 10.0, 100.0\n",
      "scalerType MaxMin, Standard\n",
      "\n",
      "SMILE_POLY_SVM\n",
      "degree 2, 3, 4\n",
      "C 0.0001, 0.001, 0.01, 0.1, 1.0\n",
      "scalerType MaxMin, Standard\n",
      "offset 0.0, 2.0, 4.0, 6.0\n",
      "\n",
      "SMILE_RBF_SVM\n",
      "gamma 0.0001, 0.001, 0.01, 0.1, 1.0\n",
      "scalerType MaxMin, Standard\n",
      "C 0.001, 0.01, 0.1, 1.0, 10.0, 100.0, 1000.0\n",
      "\n",
      "WEKA_RF\n",
      "numTrees 20, 30, 40, 50, 60, 70, 80, 90, 100\n",
      "maxDepth 2, 5, 10, 20, 30, 40, 50, 60, 70, 80, 90, 100\n",
      "\n"
     ]
    }
   ],
   "source": [
    "ignore_columns = ['NAME', 'METHOD', 'f1', 'f1_1', 'f1_2', 'f1_3']\n",
    "\n",
    "def list_values(df):\n",
    "    columns = df.columns\n",
    "    method = df['METHOD'].iloc[0]\n",
    "    print(method)\n",
    "    for c in columns:\n",
    "        if c not in ignore_columns:\n",
    "            values = df[c].unique()\n",
    "            str_values = [str(v) for v in values]\n",
    "            print('{} {}'.format(c, ', '.join(str_values)))\n",
    "    print()\n",
    "    \n",
    "for df in dfs:\n",
    "    list_values(df)"
   ]
  },
  {
   "cell_type": "code",
   "execution_count": 4,
   "metadata": {},
   "outputs": [],
   "source": [
    "bests = [df.loc[df.f1.idxmax()] for df in dfs]\n"
   ]
  },
  {
   "cell_type": "code",
   "execution_count": 5,
   "metadata": {
    "scrolled": false
   },
   "outputs": [
    {
     "name": "stdout",
     "output_type": "stream",
     "text": [
      "SMILE_LINEAR_SVM 0.853384912959381\n",
      "C 10.0\n",
      "scalerType Standard\n",
      "\n",
      "SMILE_POLY_SVM 0.8725925925925927\n",
      "degree 3\n",
      "C 1.0\n",
      "scalerType MaxMin\n",
      "offset 4.0\n",
      "\n",
      "SMILE_RBF_SVM 0.8642050759697818\n",
      "gamma 0.1\n",
      "scalerType MaxMin\n",
      "C 10.0\n",
      "\n",
      "WEKA_RF 0.8589316713623041\n",
      "numTrees 80\n",
      "maxDepth 5\n",
      "\n"
     ]
    }
   ],
   "source": [
    "def print_best(best):\n",
    "    print('{} {}'.format(best['METHOD'], best['f1']))\n",
    "    for k, v in best.items():\n",
    "        if k not in ignore_columns:\n",
    "            print('{} {}'.format(k, v))\n",
    "    print()\n",
    "            \n",
    "for best in bests:\n",
    "    print_best(best)"
   ]
  }
 ],
 "metadata": {
  "kernelspec": {
   "display_name": "Python 3",
   "language": "python",
   "name": "python3"
  },
  "language_info": {
   "codemirror_mode": {
    "name": "ipython",
    "version": 3
   },
   "file_extension": ".py",
   "mimetype": "text/x-python",
   "name": "python",
   "nbconvert_exporter": "python",
   "pygments_lexer": "ipython3",
   "version": "3.6.5"
  }
 },
 "nbformat": 4,
 "nbformat_minor": 2
}
