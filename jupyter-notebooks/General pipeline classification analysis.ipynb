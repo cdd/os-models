{
 "cells": [
  {
   "cell_type": "markdown",
   "metadata": {},
   "source": [
    "### General Pipeline Classification Analysis"
   ]
  },
  {
   "cell_type": "code",
   "execution_count": 1,
   "metadata": {},
   "outputs": [],
   "source": [
    "%matplotlib inline\n",
    "%load_ext autoreload\n",
    "%autoreload 2\n",
    "\n",
    "import seaborn as sns\n",
    "import pandas as pd\n",
    "import matplotlib.pyplot as plt\n",
    "import numpy as n\n",
    "\n",
    "import sys\n",
    "sys.path.insert(0, 'python')\n",
    "from tuning_results import TuningResults"
   ]
  },
  {
   "cell_type": "code",
   "execution_count": 2,
   "metadata": {},
   "outputs": [],
   "source": [
    "csv_file=None\n",
    "#csv_file='tune_dtc.csv'\n",
    "#csv_file='tune_lrc_desc.csv'\n",
    "#csv_file='tune_lrc_descs.csv'\n",
    "#csv_file='tune_lrc_fp.csv'\n",
    "#csv_file='tune_lrc_fps.csv'\n",
    "#csv_file='tune_lsvc_desc.csv'\n",
    "#csv_file='tune_lsvc_descs.csv'\n",
    "#csv_file='tune_lsvc_fp.csv'\n",
    "#csv_file='tune_lsvc_fps.csv'\n",
    "#csv_file='tune_nb_bn.csv'\n",
    "#csv_file='tune_nb_mn.csv'\n",
    "#csv_file='tune_rfc.csv'\n",
    "#csv_file='tune_weka_rfc.csv'\n",
    "#csv_file='tune_smile_svc_tanimoto_fp.csv'\n",
    "#csv_file='tune_smile_svc_poly.csv'\n",
    "#csv_file='tune_smile_svc_rbf.csv'\n",
    "#csv_file='tune_weka_fold_rfc.csv'\n",
    "#csv_file='tune_weka_nb_bn.csv'\n",
    "csv_file='tune_smile_nb.csv'"
   ]
  },
  {
   "cell_type": "code",
   "execution_count": 3,
   "metadata": {},
   "outputs": [
    {
     "name": "stdout",
     "output_type": "stream",
     "text": [
      "Found parameters ['alpha', 'featuresColumn', 'submethod']\n"
     ]
    }
   ],
   "source": [
    "tuning_results = TuningResults(csv_file, classification=True, all_systems=False)"
   ]
  },
  {
   "cell_type": "code",
   "execution_count": 4,
   "metadata": {},
   "outputs": [
    {
     "data": {
      "text/html": [
       "<div>\n",
       "<style scoped>\n",
       "    .dataframe tbody tr th:only-of-type {\n",
       "        vertical-align: middle;\n",
       "    }\n",
       "\n",
       "    .dataframe tbody tr th {\n",
       "        vertical-align: top;\n",
       "    }\n",
       "\n",
       "    .dataframe thead th {\n",
       "        text-align: right;\n",
       "    }\n",
       "</style>\n",
       "<table border=\"1\" class=\"dataframe\">\n",
       "  <thead>\n",
       "    <tr style=\"text-align: right;\">\n",
       "      <th></th>\n",
       "      <th>name</th>\n",
       "      <th>method</th>\n",
       "      <th>alpha</th>\n",
       "      <th>featuresColumn</th>\n",
       "      <th>submethod</th>\n",
       "      <th>auc</th>\n",
       "      <th>f1</th>\n",
       "      <th>f2</th>\n",
       "      <th>f3</th>\n",
       "    </tr>\n",
       "  </thead>\n",
       "  <tbody>\n",
       "    <tr>\n",
       "      <th>19</th>\n",
       "      <td>data_chagas</td>\n",
       "      <td>SMILE_NB</td>\n",
       "      <td>2.0</td>\n",
       "      <td>rdkit_fp</td>\n",
       "      <td>Bernoulli</td>\n",
       "      <td>0.800018</td>\n",
       "      <td>0.797973</td>\n",
       "      <td>0.808007</td>\n",
       "      <td>0.794074</td>\n",
       "    </tr>\n",
       "    <tr>\n",
       "      <th>59</th>\n",
       "      <td>data_herg</td>\n",
       "      <td>SMILE_NB</td>\n",
       "      <td>2.0</td>\n",
       "      <td>rdkit_fp</td>\n",
       "      <td>Multinomial</td>\n",
       "      <td>0.848035</td>\n",
       "      <td>0.793741</td>\n",
       "      <td>0.890933</td>\n",
       "      <td>0.859431</td>\n",
       "    </tr>\n",
       "    <tr>\n",
       "      <th>9</th>\n",
       "      <td>data_lipinski</td>\n",
       "      <td>SMILE_NB</td>\n",
       "      <td>0.5</td>\n",
       "      <td>rdkit_fp</td>\n",
       "      <td>Multinomial</td>\n",
       "      <td>0.753411</td>\n",
       "      <td>0.799107</td>\n",
       "      <td>0.734219</td>\n",
       "      <td>0.726908</td>\n",
       "    </tr>\n",
       "    <tr>\n",
       "      <th>89</th>\n",
       "      <td>data_malaria</td>\n",
       "      <td>SMILE_NB</td>\n",
       "      <td>0.5</td>\n",
       "      <td>rdkit_fp</td>\n",
       "      <td>Multinomial</td>\n",
       "      <td>0.969771</td>\n",
       "      <td>0.978506</td>\n",
       "      <td>0.974635</td>\n",
       "      <td>0.956172</td>\n",
       "    </tr>\n",
       "    <tr>\n",
       "      <th>38</th>\n",
       "      <td>data_solubility</td>\n",
       "      <td>SMILE_NB</td>\n",
       "      <td>1.0</td>\n",
       "      <td>cdk_fp</td>\n",
       "      <td>Bernoulli</td>\n",
       "      <td>0.881943</td>\n",
       "      <td>0.909321</td>\n",
       "      <td>0.935202</td>\n",
       "      <td>0.801307</td>\n",
       "    </tr>\n",
       "    <tr>\n",
       "      <th>77</th>\n",
       "      <td>data_tuberculosis</td>\n",
       "      <td>SMILE_NB</td>\n",
       "      <td>0.5</td>\n",
       "      <td>cdk_fp</td>\n",
       "      <td>Multinomial</td>\n",
       "      <td>0.713875</td>\n",
       "      <td>0.710385</td>\n",
       "      <td>0.717312</td>\n",
       "      <td>0.713927</td>\n",
       "    </tr>\n",
       "  </tbody>\n",
       "</table>\n",
       "</div>"
      ],
      "text/plain": [
       "                 name    method  alpha featuresColumn    submethod       auc  \\\n",
       "19        data_chagas  SMILE_NB    2.0       rdkit_fp    Bernoulli  0.800018   \n",
       "59          data_herg  SMILE_NB    2.0       rdkit_fp  Multinomial  0.848035   \n",
       "9       data_lipinski  SMILE_NB    0.5       rdkit_fp  Multinomial  0.753411   \n",
       "89       data_malaria  SMILE_NB    0.5       rdkit_fp  Multinomial  0.969771   \n",
       "38    data_solubility  SMILE_NB    1.0         cdk_fp    Bernoulli  0.881943   \n",
       "77  data_tuberculosis  SMILE_NB    0.5         cdk_fp  Multinomial  0.713875   \n",
       "\n",
       "          f1        f2        f3  \n",
       "19  0.797973  0.808007  0.794074  \n",
       "59  0.793741  0.890933  0.859431  \n",
       "9   0.799107  0.734219  0.726908  \n",
       "89  0.978506  0.974635  0.956172  \n",
       "38  0.909321  0.935202  0.801307  \n",
       "77  0.710385  0.717312  0.713927  "
      ]
     },
     "execution_count": 4,
     "metadata": {},
     "output_type": "execute_result"
    }
   ],
   "source": [
    "tuning_results.global_summary()"
   ]
  },
  {
   "cell_type": "code",
   "execution_count": 5,
   "metadata": {},
   "outputs": [
    {
     "name": "stdout",
     "output_type": "stream",
     "text": [
      "Iterating over:\n",
      "Features (cdk_fcfp, rdkit_fcfp)\n",
      "Bayes Laplacian smoothing (0.0, 0.5, 1.0, 2.0)\n",
      "Method (Bernoulli, Multinomial)\n",
      "Best common settings:\n",
      "Features: rdkit_fcfp\n",
      "Bayes Laplacian smoothing: 0.5\n",
      "Method: Bernoulli\n",
      "RMSE: 0.01758050155641837\n"
     ]
    },
    {
     "data": {
      "text/html": [
       "<div>\n",
       "<style scoped>\n",
       "    .dataframe tbody tr th:only-of-type {\n",
       "        vertical-align: middle;\n",
       "    }\n",
       "\n",
       "    .dataframe tbody tr th {\n",
       "        vertical-align: top;\n",
       "    }\n",
       "\n",
       "    .dataframe thead th {\n",
       "        text-align: right;\n",
       "    }\n",
       "</style>\n",
       "<table border=\"1\" class=\"dataframe\">\n",
       "  <thead>\n",
       "    <tr style=\"text-align: right;\">\n",
       "      <th></th>\n",
       "      <th>name</th>\n",
       "      <th>auc</th>\n",
       "    </tr>\n",
       "  </thead>\n",
       "  <tbody>\n",
       "    <tr>\n",
       "      <th>17</th>\n",
       "      <td>data_chagas</td>\n",
       "      <td>0.798934</td>\n",
       "    </tr>\n",
       "    <tr>\n",
       "      <th>49</th>\n",
       "      <td>data_herg</td>\n",
       "      <td>0.838628</td>\n",
       "    </tr>\n",
       "    <tr>\n",
       "      <th>1</th>\n",
       "      <td>data_lipinski</td>\n",
       "      <td>0.728678</td>\n",
       "    </tr>\n",
       "    <tr>\n",
       "      <th>81</th>\n",
       "      <td>data_malaria</td>\n",
       "      <td>0.954432</td>\n",
       "    </tr>\n",
       "    <tr>\n",
       "      <th>33</th>\n",
       "      <td>data_solubility</td>\n",
       "      <td>0.852463</td>\n",
       "    </tr>\n",
       "    <tr>\n",
       "      <th>65</th>\n",
       "      <td>data_tuberculosis</td>\n",
       "      <td>0.706900</td>\n",
       "    </tr>\n",
       "  </tbody>\n",
       "</table>\n",
       "</div>"
      ],
      "text/plain": [
       "                 name       auc\n",
       "17        data_chagas  0.798934\n",
       "49          data_herg  0.838628\n",
       "1       data_lipinski  0.728678\n",
       "81       data_malaria  0.954432\n",
       "33    data_solubility  0.852463\n",
       "65  data_tuberculosis  0.706900"
      ]
     },
     "execution_count": 5,
     "metadata": {},
     "output_type": "execute_result"
    }
   ],
   "source": [
    "tuning_results.best_summary()"
   ]
  },
  {
   "cell_type": "code",
   "execution_count": 6,
   "metadata": {},
   "outputs": [
    {
     "name": "stdout",
     "output_type": "stream",
     "text": [
      "summary file is /home/gareth/src/os-models/jupyter-notebooks/summaries/classification/tune_smile_nb_summary.csv\n",
      "Mean common metric 0.813 global metric 0.828\n",
      "global to common RMSE is 0.018\n"
     ]
    },
    {
     "data": {
      "text/html": [
       "<div>\n",
       "<style scoped>\n",
       "    .dataframe tbody tr th:only-of-type {\n",
       "        vertical-align: middle;\n",
       "    }\n",
       "\n",
       "    .dataframe tbody tr th {\n",
       "        vertical-align: top;\n",
       "    }\n",
       "\n",
       "    .dataframe thead th {\n",
       "        text-align: right;\n",
       "    }\n",
       "</style>\n",
       "<table border=\"1\" class=\"dataframe\">\n",
       "  <thead>\n",
       "    <tr style=\"text-align: right;\">\n",
       "      <th></th>\n",
       "      <th>name</th>\n",
       "      <th>auc_global</th>\n",
       "      <th>auc_common</th>\n",
       "      <th>delta</th>\n",
       "    </tr>\n",
       "  </thead>\n",
       "  <tbody>\n",
       "    <tr>\n",
       "      <th>0</th>\n",
       "      <td>data_chagas</td>\n",
       "      <td>0.800018</td>\n",
       "      <td>0.798934</td>\n",
       "      <td>0.001084</td>\n",
       "    </tr>\n",
       "    <tr>\n",
       "      <th>1</th>\n",
       "      <td>data_herg</td>\n",
       "      <td>0.848035</td>\n",
       "      <td>0.838628</td>\n",
       "      <td>0.009407</td>\n",
       "    </tr>\n",
       "    <tr>\n",
       "      <th>2</th>\n",
       "      <td>data_lipinski</td>\n",
       "      <td>0.753411</td>\n",
       "      <td>0.728678</td>\n",
       "      <td>0.024734</td>\n",
       "    </tr>\n",
       "    <tr>\n",
       "      <th>3</th>\n",
       "      <td>data_malaria</td>\n",
       "      <td>0.969771</td>\n",
       "      <td>0.954432</td>\n",
       "      <td>0.015339</td>\n",
       "    </tr>\n",
       "    <tr>\n",
       "      <th>4</th>\n",
       "      <td>data_solubility</td>\n",
       "      <td>0.881943</td>\n",
       "      <td>0.852463</td>\n",
       "      <td>0.029480</td>\n",
       "    </tr>\n",
       "    <tr>\n",
       "      <th>5</th>\n",
       "      <td>data_tuberculosis</td>\n",
       "      <td>0.713875</td>\n",
       "      <td>0.706900</td>\n",
       "      <td>0.006975</td>\n",
       "    </tr>\n",
       "  </tbody>\n",
       "</table>\n",
       "</div>"
      ],
      "text/plain": [
       "                name  auc_global  auc_common     delta\n",
       "0        data_chagas    0.800018    0.798934  0.001084\n",
       "1          data_herg    0.848035    0.838628  0.009407\n",
       "2      data_lipinski    0.753411    0.728678  0.024734\n",
       "3       data_malaria    0.969771    0.954432  0.015339\n",
       "4    data_solubility    0.881943    0.852463  0.029480\n",
       "5  data_tuberculosis    0.713875    0.706900  0.006975"
      ]
     },
     "execution_count": 6,
     "metadata": {},
     "output_type": "execute_result"
    }
   ],
   "source": [
    "tuning_results.summary()"
   ]
  },
  {
   "cell_type": "code",
   "execution_count": 7,
   "metadata": {},
   "outputs": [
    {
     "name": "stdout",
     "output_type": "stream",
     "text": [
      "Features: ['rdkit_fp', 'cdk_fp']\n",
      "Iterating over:\n",
      "alpha: [2.0, 1.0, 0.5, 0.0]\n",
      "submethod: ['Multinomial', 'Bernoulli']\n"
     ]
    },
    {
     "data": {
      "text/html": [
       "<div>\n",
       "<style scoped>\n",
       "    .dataframe tbody tr th:only-of-type {\n",
       "        vertical-align: middle;\n",
       "    }\n",
       "\n",
       "    .dataframe tbody tr th {\n",
       "        vertical-align: top;\n",
       "    }\n",
       "\n",
       "    .dataframe thead th {\n",
       "        text-align: right;\n",
       "    }\n",
       "</style>\n",
       "<table border=\"1\" class=\"dataframe\">\n",
       "  <thead>\n",
       "    <tr style=\"text-align: right;\">\n",
       "      <th></th>\n",
       "      <th>alpha</th>\n",
       "      <th>submethod</th>\n",
       "      <th>test_rmse</th>\n",
       "      <th>rmse</th>\n",
       "      <th>feature</th>\n",
       "    </tr>\n",
       "  </thead>\n",
       "  <tbody>\n",
       "    <tr>\n",
       "      <th>0</th>\n",
       "      <td>0.5</td>\n",
       "      <td>Bernoulli</td>\n",
       "      <td>0.813339</td>\n",
       "      <td>0.017581</td>\n",
       "      <td>rdkit_fp</td>\n",
       "    </tr>\n",
       "    <tr>\n",
       "      <th>1</th>\n",
       "      <td>0.5</td>\n",
       "      <td>Bernoulli</td>\n",
       "      <td>0.812740</td>\n",
       "      <td>0.020420</td>\n",
       "      <td>cdk_fp</td>\n",
       "    </tr>\n",
       "  </tbody>\n",
       "</table>\n",
       "</div>"
      ],
      "text/plain": [
       "   alpha  submethod  test_rmse      rmse   feature\n",
       "0    0.5  Bernoulli   0.813339  0.017581  rdkit_fp\n",
       "1    0.5  Bernoulli   0.812740  0.020420    cdk_fp"
      ]
     },
     "execution_count": 7,
     "metadata": {},
     "output_type": "execute_result"
    }
   ],
   "source": [
    "tuning_results.best_summary_by_feature()"
   ]
  },
  {
   "cell_type": "code",
   "execution_count": 8,
   "metadata": {},
   "outputs": [
    {
     "data": {
      "text/plain": [
       "[<matplotlib.lines.Line2D at 0x7f2aef2b2470>]"
      ]
     },
     "execution_count": 8,
     "metadata": {},
     "output_type": "execute_result"
    },
    {
     "data": {
      "image/png": "[encoded data removed]",
      "text/plain": [
       "<Figure size 720x576 with 1 Axes>"
      ]
     },
     "metadata": {},
     "output_type": "display_data"
    }
   ],
   "source": [
    "fig, axes = plt.subplots(nrows=1, ncols=1, figsize=(10, 8))\n",
    "metric = tuning_results.metric_name()\n",
    "sns.regplot(x='{}_global'.format(metric), y='{}_common'.format(metric), data=tuning_results.summary_df, ax=axes)\n",
    "axes.plot([0.2, 0.2], [1.2, 1.2], linewidth=2)"
   ]
  },
  {
   "cell_type": "code",
   "execution_count": 9,
   "metadata": {},
   "outputs": [
    {
     "name": "stderr",
     "output_type": "stream",
     "text": [
      "/home/packages/anaconda3/envs/ruse/lib/python3.6/site-packages/pandas/core/frame.py:6201: FutureWarning: Sorting because non-concatenation axis is not aligned. A future version\n",
      "of pandas will change to not sort by default.\n",
      "\n",
      "To accept the future behavior, pass 'sort=True'.\n",
      "\n",
      "To retain the current behavior and silence the warning, pass sort=False\n",
      "\n",
      "  sort=sort)\n"
     ]
    },
    {
     "data": {
      "text/plain": [
       "<matplotlib.axes._subplots.AxesSubplot at 0x7f2aea8dfa90>"
      ]
     },
     "execution_count": 9,
     "metadata": {},
     "output_type": "execute_result"
    },
    {
     "data": {
      "image/png": "[encoded data removed]",
      "text/plain": [
       "<Figure size 720x576 with 1 Axes>"
      ]
     },
     "metadata": {},
     "output_type": "display_data"
    }
   ],
   "source": [
    "category_df = tuning_results.category()\n",
    "fig, axes = plt.subplots(nrows=1, ncols=1, figsize=(10, 8))\n",
    "sns.pointplot(x='cat', y=metric, hue='name', data=category_df, ax=axes)"
   ]
  }
 ],
 "metadata": {
  "kernelspec": {
   "display_name": "Python 3",
   "language": "python",
   "name": "python3"
  },
  "language_info": {
   "codemirror_mode": {
    "name": "ipython",
    "version": 3
   },
   "file_extension": ".py",
   "mimetype": "text/x-python",
   "name": "python",
   "nbconvert_exporter": "python",
   "pygments_lexer": "ipython3",
   "version": "3.6.5"
  }
 },
 "nbformat": 4,
 "nbformat_minor": 2
}
